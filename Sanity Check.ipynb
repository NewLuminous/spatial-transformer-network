{
 "cells": [
  {
   "cell_type": "markdown",
   "metadata": {
    "toc": true
   },
   "source": [
    "<h1>Table of Contents<span class=\"tocSkip\"></span></h1>\n",
    "<div class=\"toc\"><ul class=\"toc-item\"><li><span><a href=\"#Load-Images\" data-toc-modified-id=\"Load-Images-1\"><span class=\"toc-item-num\">1&nbsp;&nbsp;</span>Load Images</a></span></li><li><span><a href=\"#Identity-Transform\" data-toc-modified-id=\"Identity-Transform-2\"><span class=\"toc-item-num\">2&nbsp;&nbsp;</span>Identity Transform</a></span></li><li><span><a href=\"#Rotation\" data-toc-modified-id=\"Rotation-3\"><span class=\"toc-item-num\">3&nbsp;&nbsp;</span>Rotation</a></span></li></ul></div>"
   ]
  },
  {
   "cell_type": "code",
   "execution_count": 1,
   "metadata": {
    "ExecuteTime": {
     "end_time": "2021-05-05T12:40:39.097988Z",
     "start_time": "2021-05-05T12:40:16.596302Z"
    }
   },
   "outputs": [],
   "source": [
    "import numpy as np\n",
    "from PIL import Image\n",
    "import tensorflow as tf\n",
    "\n",
    "from utils import img2array, array2img\n",
    "from stn import spatial_transformer_network as transformer"
   ]
  },
  {
   "cell_type": "markdown",
   "metadata": {},
   "source": [
    "## Load Images"
   ]
  },
  {
   "cell_type": "code",
   "execution_count": 3,
   "metadata": {
    "ExecuteTime": {
     "end_time": "2021-05-05T12:41:03.036174Z",
     "start_time": "2021-05-05T12:41:02.194134Z"
    }
   },
   "outputs": [],
   "source": [
    "DIMS = (600, 600)\n",
    "data_dir = './data/'\n",
    "\n",
    "# load 4 cat images\n",
    "img1 = img2array(data_dir + 'cat1.jpg', DIMS, expand=True)#, view=True)\n",
    "img2 = img2array(data_dir + 'cat2.jpg', DIMS, expand=True)\n",
    "img3 = img2array(data_dir + 'cat3.jpg', DIMS, expand=True)\n",
    "img4 = img2array(data_dir + 'cat4.jpg', DIMS, expand=True)"
   ]
  },
  {
   "cell_type": "code",
   "execution_count": 8,
   "metadata": {
    "ExecuteTime": {
     "end_time": "2021-05-05T12:41:37.888772Z",
     "start_time": "2021-05-05T12:41:37.861776Z"
    }
   },
   "outputs": [
    {
     "name": "stdout",
     "output_type": "stream",
     "text": [
      "Input Img Shape: (4, 600, 600, 3)\n"
     ]
    }
   ],
   "source": [
    "input_img = np.concatenate([img1, img2, img3, img4], axis=0)\n",
    "B, H, W, C = input_img.shape\n",
    "print(\"Input Img Shape: {}\".format(input_img.shape))"
   ]
  },
  {
   "cell_type": "markdown",
   "metadata": {},
   "source": [
    "## Identity Transform\n",
    "\n",
    "We'll be using an identity transform as a sanity check. This means the output image should look like the input image."
   ]
  },
  {
   "cell_type": "code",
   "execution_count": 12,
   "metadata": {
    "ExecuteTime": {
     "end_time": "2021-05-05T12:43:55.548191Z",
     "start_time": "2021-05-05T12:43:55.538196Z"
    }
   },
   "outputs": [],
   "source": [
    "tf.compat.v1.disable_eager_execution()"
   ]
  },
  {
   "cell_type": "code",
   "execution_count": 13,
   "metadata": {
    "ExecuteTime": {
     "end_time": "2021-05-05T12:43:56.235111Z",
     "start_time": "2021-05-05T12:43:56.223114Z"
    }
   },
   "outputs": [],
   "source": [
    "# identity transform\n",
    "theta = np.array([[1., 0, 0], [0, 1., 0]])"
   ]
  },
  {
   "cell_type": "code",
   "execution_count": 15,
   "metadata": {
    "ExecuteTime": {
     "end_time": "2021-05-05T12:45:35.053649Z",
     "start_time": "2021-05-05T12:45:34.813082Z"
    }
   },
   "outputs": [],
   "source": [
    "x = tf.compat.v1.placeholder(tf.float32, [None, H, W, C])\n",
    "\n",
    "with tf.compat.v1.variable_scope('spatial_transformer'):\n",
    "    theta = theta.astype('float32')\n",
    "    theta = theta.flatten()\n",
    "\n",
    "    # define loc net weight and bias\n",
    "    loc_in = H*W*C\n",
    "    loc_out = 6\n",
    "    W_loc = tf.Variable(tf.zeros([loc_in, loc_out]), name='W_loc')\n",
    "    b_loc = tf.Variable(initial_value=theta, name='b_loc')\n",
    "    \n",
    "    # tie everything together\n",
    "    fc_loc = tf.matmul(tf.zeros([B, loc_in]), W_loc) + b_loc\n",
    "    h_trans = transformer(x, fc_loc)"
   ]
  },
  {
   "cell_type": "code",
   "execution_count": 18,
   "metadata": {
    "ExecuteTime": {
     "end_time": "2021-05-05T12:45:54.262810Z",
     "start_time": "2021-05-05T12:45:51.195046Z"
    }
   },
   "outputs": [
    {
     "name": "stdout",
     "output_type": "stream",
     "text": [
      "y: (4, 600, 600, 3)\n"
     ]
    }
   ],
   "source": [
    "# run session\n",
    "sess = tf.compat.v1.Session()\n",
    "sess.run(tf.compat.v1.global_variables_initializer())\n",
    "y = sess.run(h_trans, feed_dict={x: input_img})\n",
    "print(\"y: {}\".format(y.shape))\n",
    "array2img(y[0]).show()"
   ]
  },
  {
   "cell_type": "markdown",
   "metadata": {},
   "source": [
    "## Rotation\n",
    "\n",
    "Let's try rotating the picture by 45 degrees."
   ]
  },
  {
   "cell_type": "code",
   "execution_count": 20,
   "metadata": {
    "ExecuteTime": {
     "end_time": "2021-05-05T12:46:11.816174Z",
     "start_time": "2021-05-05T12:46:11.801139Z"
    }
   },
   "outputs": [],
   "source": [
    "from utils import deg2rad"
   ]
  },
  {
   "cell_type": "code",
   "execution_count": 21,
   "metadata": {
    "ExecuteTime": {
     "end_time": "2021-05-05T12:46:12.487077Z",
     "start_time": "2021-05-05T12:46:12.481045Z"
    }
   },
   "outputs": [],
   "source": [
    "# initialize affine transform tensor `theta`\n",
    "degree = 45\n",
    "theta = np.array([\n",
    "    [np.cos(deg2rad(degree)), -np.sin(deg2rad(degree)), 0], \n",
    "    [np.sin(deg2rad(degree)), np.cos(deg2rad(degree)), 0]\n",
    "])"
   ]
  },
  {
   "cell_type": "code",
   "execution_count": 24,
   "metadata": {
    "ExecuteTime": {
     "end_time": "2021-05-05T12:46:22.481436Z",
     "start_time": "2021-05-05T12:46:22.333153Z"
    }
   },
   "outputs": [],
   "source": [
    "x = tf.compat.v1.placeholder(tf.float32, [None, H, W, C])\n",
    "\n",
    "with tf.compat.v1.variable_scope('spatial_transformer'):\n",
    "    theta = theta.astype('float32')\n",
    "    theta = theta.flatten()\n",
    "\n",
    "    # define loc net weight and bias\n",
    "    loc_in = H*W*C\n",
    "    loc_out = 6\n",
    "    W_loc = tf.Variable(tf.zeros([loc_in, loc_out]), name='W_loc')\n",
    "    b_loc = tf.Variable(initial_value=theta, name='b_loc')\n",
    "    \n",
    "    # tie everything together\n",
    "    fc_loc = tf.matmul(tf.zeros([B, loc_in]), W_loc) + b_loc\n",
    "    h_trans = transformer(x, fc_loc)"
   ]
  },
  {
   "cell_type": "code",
   "execution_count": 26,
   "metadata": {
    "ExecuteTime": {
     "end_time": "2021-05-05T12:46:33.192303Z",
     "start_time": "2021-05-05T12:46:31.175465Z"
    }
   },
   "outputs": [
    {
     "name": "stdout",
     "output_type": "stream",
     "text": [
      "y: (4, 600, 600, 3)\n"
     ]
    }
   ],
   "source": [
    "# run session\n",
    "sess = tf.compat.v1.Session()\n",
    "sess.run(tf.compat.v1.global_variables_initializer())\n",
    "y = sess.run(h_trans, feed_dict={x: input_img})\n",
    "print(\"y: {}\".format(y.shape))\n",
    "array2img(y[0]).show()"
   ]
  },
  {
   "cell_type": "code",
   "execution_count": null,
   "metadata": {},
   "outputs": [],
   "source": []
  }
 ],
 "metadata": {
  "kernelspec": {
   "display_name": "Python 3",
   "language": "python",
   "name": "python3"
  },
  "language_info": {
   "codemirror_mode": {
    "name": "ipython",
    "version": 3
   },
   "file_extension": ".py",
   "mimetype": "text/x-python",
   "name": "python",
   "nbconvert_exporter": "python",
   "pygments_lexer": "ipython3",
   "version": "3.7.5"
  },
  "toc": {
   "base_numbering": 1,
   "nav_menu": {},
   "number_sections": true,
   "sideBar": true,
   "skip_h1_title": false,
   "title_cell": "Table of Contents",
   "title_sidebar": "Contents",
   "toc_cell": true,
   "toc_position": {},
   "toc_section_display": true,
   "toc_window_display": true
  }
 },
 "nbformat": 4,
 "nbformat_minor": 2
}
