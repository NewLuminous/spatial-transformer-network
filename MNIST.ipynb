{
 "cells": [
  {
   "cell_type": "markdown",
   "id": "c42d5901",
   "metadata": {
    "toc": true
   },
   "source": [
    "<h1>Table of Contents<span class=\"tocSkip\"></span></h1>\n",
    "<div class=\"toc\"><ul class=\"toc-item\"><li><span><a href=\"#Import-libraries\" data-toc-modified-id=\"Import-libraries-1\"><span class=\"toc-item-num\">1&nbsp;&nbsp;</span>Import libraries</a></span></li><li><span><a href=\"#Define-some-utility-functions\" data-toc-modified-id=\"Define-some-utility-functions-2\"><span class=\"toc-item-num\">2&nbsp;&nbsp;</span>Define some utility functions</a></span></li><li><span><a href=\"#Load-data\" data-toc-modified-id=\"Load-data-3\"><span class=\"toc-item-num\">3&nbsp;&nbsp;</span>Load data</a></span></li><li><span><a href=\"#Build-model\" data-toc-modified-id=\"Build-model-4\"><span class=\"toc-item-num\">4&nbsp;&nbsp;</span>Build model</a></span></li><li><span><a href=\"#Create-data-loaders\" data-toc-modified-id=\"Create-data-loaders-5\"><span class=\"toc-item-num\">5&nbsp;&nbsp;</span>Create data loaders</a></span></li><li><span><a href=\"#Train-model-with-Spatial-Transformer\" data-toc-modified-id=\"Train-model-with-Spatial-Transformer-6\"><span class=\"toc-item-num\">6&nbsp;&nbsp;</span>Train model with Spatial Transformer</a></span></li><li><span><a href=\"#Train-model-without-Spatial-Transformer\" data-toc-modified-id=\"Train-model-without-Spatial-Transformer-7\"><span class=\"toc-item-num\">7&nbsp;&nbsp;</span>Train model without Spatial Transformer</a></span></li><li><span><a href=\"#Visualize-Spatial-Transformer's-output\" data-toc-modified-id=\"Visualize-Spatial-Transformer's-output-8\"><span class=\"toc-item-num\">8&nbsp;&nbsp;</span>Visualize Spatial Transformer's output</a></span></li><li><span><a href=\"#Visualize-learning-progress-of-STN\" data-toc-modified-id=\"Visualize-learning-progress-of-STN-9\"><span class=\"toc-item-num\">9&nbsp;&nbsp;</span>Visualize learning progress of STN</a></span></li></ul></div>"
   ]
  },
  {
   "cell_type": "markdown",
   "id": "373e3e23",
   "metadata": {},
   "source": [
    "# Import libraries"
   ]
  },
  {
   "cell_type": "code",
   "execution_count": 1,
   "id": "4a43cbdd",
   "metadata": {
    "ExecuteTime": {
     "end_time": "2021-05-05T18:55:37.487384Z",
     "start_time": "2021-05-05T18:55:26.425777Z"
    }
   },
   "outputs": [],
   "source": [
    "import io\n",
    "import numpy as np\n",
    "import tensorflow as tf\n",
    "import matplotlib.pyplot as plt\n",
    "from tensorflow.keras.datasets import mnist"
   ]
  },
  {
   "cell_type": "markdown",
   "id": "f0fd0a56",
   "metadata": {},
   "source": [
    "# Define some utility functions"
   ]
  },
  {
   "cell_type": "code",
   "execution_count": 2,
   "id": "f2f63cfc",
   "metadata": {
    "ExecuteTime": {
     "end_time": "2021-05-05T18:55:37.503141Z",
     "start_time": "2021-05-05T18:55:37.490141Z"
    }
   },
   "outputs": [],
   "source": [
    "def visualize_image(image):\n",
    "    plt.imshow(image.squeeze(), cmap=\"binary\")\n",
    "    plt.show()"
   ]
  },
  {
   "cell_type": "code",
   "execution_count": 3,
   "id": "23346089",
   "metadata": {
    "ExecuteTime": {
     "end_time": "2021-05-05T18:55:37.518143Z",
     "start_time": "2021-05-05T18:55:37.507142Z"
    }
   },
   "outputs": [],
   "source": [
    "def visualize_images(images, labels, offset=0):\n",
    "    figure = plt.figure(figsize=(10, 10))\n",
    "    for i in range(offset, offset+25):\n",
    "        ax = plt.subplot(5, 5, i-offset+1)\n",
    "        plt.imshow(images[i].squeeze(), cmap=\"binary\")\n",
    "        plt.title(labels[i])\n",
    "        plt.axis(\"off\")\n",
    "    return figure"
   ]
  },
  {
   "cell_type": "code",
   "execution_count": 4,
   "id": "48c5f5e2",
   "metadata": {
    "ExecuteTime": {
     "end_time": "2021-05-05T18:55:37.534160Z",
     "start_time": "2021-05-05T18:55:37.522193Z"
    }
   },
   "outputs": [],
   "source": [
    "# Source: https://www.tensorflow.org/tensorboard/image_summaries\n",
    "def plot_to_image(figure):\n",
    "    # Save the plot to a PNG in memory.\n",
    "    buf = io.BytesIO()\n",
    "    plt.savefig(buf, format='png')\n",
    "    \n",
    "    # Closing the figure prevents it from being displayed directly inside\n",
    "    # the notebook.\n",
    "    plt.close(figure)\n",
    "    buf.seek(0)\n",
    "    \n",
    "    # Convert PNG buffer to TF image\n",
    "    image = tf.image.decode_png(buf.getvalue(), channels=4)\n",
    "    \n",
    "    # Add the batch dimension\n",
    "    image = tf.expand_dims(image, 0)\n",
    "    return image"
   ]
  },
  {
   "cell_type": "markdown",
   "id": "492cb065",
   "metadata": {},
   "source": [
    "# Load data"
   ]
  },
  {
   "cell_type": "code",
   "execution_count": 5,
   "id": "9ca0089c",
   "metadata": {
    "ExecuteTime": {
     "end_time": "2021-05-05T18:55:37.880140Z",
     "start_time": "2021-05-05T18:55:37.538156Z"
    }
   },
   "outputs": [],
   "source": [
    "(x_train, y_train), (x_test, y_test) = mnist.load_data()"
   ]
  },
  {
   "cell_type": "code",
   "execution_count": 6,
   "id": "0ebb2ff7",
   "metadata": {
    "ExecuteTime": {
     "end_time": "2021-05-05T18:55:37.895139Z",
     "start_time": "2021-05-05T18:55:37.882139Z"
    }
   },
   "outputs": [
    {
     "data": {
      "text/plain": [
       "(60000, 28, 28)"
      ]
     },
     "execution_count": 6,
     "metadata": {},
     "output_type": "execute_result"
    }
   ],
   "source": [
    "x_train.shape"
   ]
  },
  {
   "cell_type": "code",
   "execution_count": 7,
   "id": "1f8e5884",
   "metadata": {
    "ExecuteTime": {
     "end_time": "2021-05-05T18:55:37.911140Z",
     "start_time": "2021-05-05T18:55:37.898154Z"
    }
   },
   "outputs": [
    {
     "data": {
      "text/plain": [
       "(10000, 28, 28)"
      ]
     },
     "execution_count": 7,
     "metadata": {},
     "output_type": "execute_result"
    }
   ],
   "source": [
    "x_test.shape"
   ]
  },
  {
   "cell_type": "code",
   "execution_count": 8,
   "id": "fa055536",
   "metadata": {
    "ExecuteTime": {
     "end_time": "2021-05-05T18:55:38.130204Z",
     "start_time": "2021-05-05T18:55:37.915139Z"
    }
   },
   "outputs": [],
   "source": [
    "def preprocess(images):\n",
    "    norm_images = images.astype(\"float32\") / 255.0\n",
    "    return np.reshape(norm_images, (-1, 28, 28, 1))\n",
    "\n",
    "# Normalize images\n",
    "x_train = preprocess(x_train)\n",
    "x_test = preprocess(x_test)"
   ]
  },
  {
   "cell_type": "markdown",
   "id": "6b694575",
   "metadata": {},
   "source": [
    "# Build model"
   ]
  },
  {
   "cell_type": "code",
   "execution_count": 9,
   "id": "c9683e12",
   "metadata": {
    "ExecuteTime": {
     "end_time": "2021-05-05T18:55:38.146181Z",
     "start_time": "2021-05-05T18:55:38.133153Z"
    }
   },
   "outputs": [],
   "source": [
    "from tensorflow.keras.layers import Conv2D, MaxPool2D, Dense\n",
    "from stn.transformer import get_pixel_value, affine_grid_generator, bilinear_sampler"
   ]
  },
  {
   "cell_type": "code",
   "execution_count": 10,
   "id": "0f9fb846",
   "metadata": {
    "ExecuteTime": {
     "end_time": "2021-05-05T18:55:38.162142Z",
     "start_time": "2021-05-05T18:55:38.149143Z"
    }
   },
   "outputs": [],
   "source": [
    "class LocalisationNet(tf.keras.layers.Layer):\n",
    "    def __init__(self):\n",
    "        super(LocalisationNet, self).__init__()\n",
    "        self.conv_1 = Conv2D(8, kernel_size=7, activation=\"relu\", kernel_initializer=\"he_normal\")\n",
    "        self.maxpool_1 = MaxPool2D(strides=2)\n",
    "        self.conv_2 = Conv2D(10, kernel_size=5, activation=\"relu\", kernel_initializer=\"he_normal\")\n",
    "        self.maxpool_2 = MaxPool2D(strides=2)\n",
    "        \n",
    "    def call(self, inputs):\n",
    "        x = self.conv_1(inputs)\n",
    "        x = self.maxpool_1(x)\n",
    "        x = self.conv_2(x)\n",
    "        x = self.maxpool_2(x)\n",
    "        return x"
   ]
  },
  {
   "cell_type": "code",
   "execution_count": 11,
   "id": "8f06e428",
   "metadata": {
    "ExecuteTime": {
     "end_time": "2021-05-05T18:55:38.177145Z",
     "start_time": "2021-05-05T18:55:38.165143Z"
    }
   },
   "outputs": [],
   "source": [
    "# Regressor for the 3 * 2 transformation parameters\n",
    "class AffineDense(tf.keras.layers.Layer):\n",
    "    def __init__(self):\n",
    "        super(AffineDense, self).__init__()\n",
    "        self.dense_1 = Dense(32, activation=\"relu\", kernel_initializer=\"he_normal\")\n",
    "        identity_transform_params = tf.keras.initializers.Constant([1, 0, 0, 0, 1, 0])\n",
    "        self.dense_2 = Dense(3 * 2, kernel_initializer=\"zeros\", bias_initializer=identity_transform_params)\n",
    "        \n",
    "    def call(self, inputs):\n",
    "        x = self.dense_1(inputs)\n",
    "        theta = self.dense_2(x)\n",
    "        return theta"
   ]
  },
  {
   "cell_type": "code",
   "execution_count": 12,
   "id": "5221cdb5",
   "metadata": {
    "ExecuteTime": {
     "end_time": "2021-05-05T18:55:38.192141Z",
     "start_time": "2021-05-05T18:55:38.181148Z"
    }
   },
   "outputs": [],
   "source": [
    "class SpatialTransformer(tf.keras.layers.Layer):\n",
    "    def __init__(self):\n",
    "        super(SpatialTransformer, self).__init__()\n",
    "        self.loc_net = LocalisationNet()\n",
    "        self.affine_dense = AffineDense()\n",
    "        \n",
    "    def call(self, inputs):\n",
    "        x = self.loc_net(inputs)\n",
    "        x = tf.reshape(x, (-1, 10 * 3 * 3))\n",
    "        theta = self.affine_dense(x)\n",
    "        theta = tf.reshape(theta, (-1, 2, 3))\n",
    "        \n",
    "        grid = affine_grid_generator(28, 28, theta)\n",
    "        xs = grid[:, 0, :, :]\n",
    "        ys = grid[:, 1, :, :]\n",
    "        return bilinear_sampler(inputs, xs, ys)"
   ]
  },
  {
   "cell_type": "code",
   "execution_count": 13,
   "id": "a41b045b",
   "metadata": {
    "ExecuteTime": {
     "end_time": "2021-05-05T18:55:38.348140Z",
     "start_time": "2021-05-05T18:55:38.195142Z"
    }
   },
   "outputs": [
    {
     "data": {
      "image/png": "[encoded data removed]",
      "text/plain": [
       "<Figure size 432x288 with 1 Axes>"
      ]
     },
     "metadata": {
      "needs_background": "light"
     },
     "output_type": "display_data"
    }
   ],
   "source": [
    "# Test with an image\n",
    "visualize_image(x_train[1])"
   ]
  },
  {
   "cell_type": "code",
   "execution_count": 14,
   "id": "9f53167b",
   "metadata": {
    "ExecuteTime": {
     "end_time": "2021-05-05T18:55:44.338610Z",
     "start_time": "2021-05-05T18:55:38.349139Z"
    },
    "scrolled": true
   },
   "outputs": [
    {
     "data": {
      "image/png": "[encoded data removed]",
      "text/plain": [
       "<Figure size 432x288 with 1 Axes>"
      ]
     },
     "metadata": {
      "needs_background": "light"
     },
     "output_type": "display_data"
    }
   ],
   "source": [
    "# It should look almost the same after the transformation because the STN module hasn't learned anything\n",
    "transformed_x = SpatialTransformer()(np.expand_dims(x_train[1], 0))\n",
    "visualize_image(transformed_x.numpy())"
   ]
  },
  {
   "cell_type": "code",
   "execution_count": 15,
   "id": "3e0f946f",
   "metadata": {
    "ExecuteTime": {
     "end_time": "2021-05-05T18:55:44.353612Z",
     "start_time": "2021-05-05T18:55:44.340615Z"
    }
   },
   "outputs": [],
   "source": [
    "from tensorflow.keras.models import Model\n",
    "from tensorflow.keras.layers import Input, Conv2D, MaxPooling2D, Dense, Dropout, SpatialDropout2D\n",
    "from tensorflow.keras.optimizers import Adam"
   ]
  },
  {
   "cell_type": "code",
   "execution_count": 16,
   "id": "7f89eb43",
   "metadata": {
    "ExecuteTime": {
     "end_time": "2021-05-05T18:55:44.369400Z",
     "start_time": "2021-05-05T18:55:44.355613Z"
    }
   },
   "outputs": [],
   "source": [
    "IMG_SIZE = 28\n",
    "VAL_SIZE = 2000\n",
    "BATCH_SIZE = 32\n",
    "EPOCHS = 100"
   ]
  },
  {
   "cell_type": "code",
   "execution_count": 17,
   "id": "b39d201f",
   "metadata": {
    "ExecuteTime": {
     "end_time": "2021-05-05T18:55:44.387404Z",
     "start_time": "2021-05-05T18:55:44.373402Z"
    }
   },
   "outputs": [],
   "source": [
    "def get_model(use_stn=True):\n",
    "    inputs = Input(shape=(IMG_SIZE, IMG_SIZE, 1))\n",
    "    if use_stn:\n",
    "        x = SpatialTransformer()(inputs)\n",
    "    else:\n",
    "        x = inputs\n",
    "    conv_1 = Conv2D(10, (5, 5), activation=\"relu\", kernel_initializer=\"he_normal\")(x)\n",
    "    maxpooling_1 = MaxPooling2D(pool_size=(2, 2))(conv_1)\n",
    "    conv_2 = Conv2D(20, (5, 5), activation=\"relu\", kernel_initializer=\"he_normal\")(maxpooling_1)\n",
    "    dropout_1 = SpatialDropout2D(0.5)(conv_2)\n",
    "    maxpooling_2 = MaxPooling2D(pool_size=(2, 2))(dropout_1)\n",
    "    x = tf.reshape(maxpooling_2, (-1, 320))\n",
    "    dense_1 = Dense(50, activation=\"relu\", kernel_initializer=\"he_normal\")(x)\n",
    "    dropout_2 = Dropout(0.5)(dense_1)\n",
    "    dense_2 = Dense(10, activation=\"softmax\")(dropout_2)\n",
    "    \n",
    "    model = Model(inputs=inputs, outputs=dense_2)\n",
    "    return model"
   ]
  },
  {
   "cell_type": "markdown",
   "id": "05ab49de",
   "metadata": {},
   "source": [
    "# Create data loaders"
   ]
  },
  {
   "cell_type": "code",
   "execution_count": 18,
   "id": "91ea29d0",
   "metadata": {
    "ExecuteTime": {
     "end_time": "2021-05-05T18:55:44.431407Z",
     "start_time": "2021-05-05T18:55:44.395407Z"
    }
   },
   "outputs": [],
   "source": [
    "x_val, y_val = x_train[:VAL_SIZE], y_train[:VAL_SIZE]\n",
    "new_x_train, new_y_train = x_train[VAL_SIZE:], y_train[VAL_SIZE:]\n",
    "\n",
    "train_ds = (\n",
    "    tf.data.Dataset.from_tensor_slices((new_x_train, new_y_train))\n",
    "    .shuffle(BATCH_SIZE * 100)\n",
    "    .batch(BATCH_SIZE)\n",
    ")\n",
    "\n",
    "val_ds = tf.data.Dataset.from_tensor_slices((x_val, y_val)).batch(BATCH_SIZE)\n",
    "test_ds = tf.data.Dataset.from_tensor_slices((x_test, y_test)).batch(BATCH_SIZE)"
   ]
  },
  {
   "cell_type": "markdown",
   "id": "348982ea",
   "metadata": {},
   "source": [
    "# Train model with Spatial Transformer"
   ]
  },
  {
   "cell_type": "code",
   "execution_count": 19,
   "id": "9c521bd2",
   "metadata": {
    "ExecuteTime": {
     "end_time": "2021-05-05T18:55:45.431801Z",
     "start_time": "2021-05-05T18:55:44.434409Z"
    }
   },
   "outputs": [
    {
     "name": "stdout",
     "output_type": "stream",
     "text": [
      "Model: \"functional_1\"\n",
      "_________________________________________________________________\n",
      "Layer (type)                 Output Shape              Param #   \n",
      "=================================================================\n",
      "input_1 (InputLayer)         [(None, 28, 28, 1)]       0         \n",
      "_________________________________________________________________\n",
      "spatial_transformer_1 (Spati (None, 28, 28, 1)         5520      \n",
      "_________________________________________________________________\n",
      "conv2d_4 (Conv2D)            (None, 24, 24, 10)        260       \n",
      "_________________________________________________________________\n",
      "max_pooling2d_4 (MaxPooling2 (None, 12, 12, 10)        0         \n",
      "_________________________________________________________________\n",
      "conv2d_5 (Conv2D)            (None, 8, 8, 20)          5020      \n",
      "_________________________________________________________________\n",
      "spatial_dropout2d (SpatialDr (None, 8, 8, 20)          0         \n",
      "_________________________________________________________________\n",
      "max_pooling2d_5 (MaxPooling2 (None, 4, 4, 20)          0         \n",
      "_________________________________________________________________\n",
      "tf_op_layer_Reshape (TensorF [(None, 320)]             0         \n",
      "_________________________________________________________________\n",
      "dense_4 (Dense)              (None, 50)                16050     \n",
      "_________________________________________________________________\n",
      "dropout (Dropout)            (None, 50)                0         \n",
      "_________________________________________________________________\n",
      "dense_5 (Dense)              (None, 10)                510       \n",
      "=================================================================\n",
      "Total params: 27,360\n",
      "Trainable params: 27,360\n",
      "Non-trainable params: 0\n",
      "_________________________________________________________________\n"
     ]
    }
   ],
   "source": [
    "stn = get_model()\n",
    "stn.summary()"
   ]
  },
  {
   "cell_type": "code",
   "execution_count": 20,
   "id": "a132efbf",
   "metadata": {
    "ExecuteTime": {
     "end_time": "2021-05-05T18:55:45.524803Z",
     "start_time": "2021-05-05T18:55:45.435815Z"
    }
   },
   "outputs": [],
   "source": [
    "# Log how the transformation params learned by Spatial Transformer evolve over time.\n",
    "st_module = tf.keras.Model(stn.input, stn.layers[-10].output)\n",
    "file_writer_cm = tf.summary.create_file_writer(\"logs/stn_progress\")\n",
    "\n",
    "def log_progression(epoch, logs):\n",
    "    transformed_tests = st_module(x_test[:25])\n",
    "    figure = visualize_images(transformed_tests.numpy(), y_test[:25])\n",
    "    progress_image = plot_to_image(figure)\n",
    "    with file_writer_cm.as_default():\n",
    "        tf.summary.image(\"Progression\", progress_image, step=epoch)"
   ]
  },
  {
   "cell_type": "code",
   "execution_count": 21,
   "id": "3e96cca0",
   "metadata": {
    "ExecuteTime": {
     "end_time": "2021-05-05T18:55:45.540805Z",
     "start_time": "2021-05-05T18:55:45.528802Z"
    }
   },
   "outputs": [],
   "source": [
    "# Callbacks\n",
    "es_callback = tf.keras.callbacks.EarlyStopping(patience=5, restore_best_weights=True)\n",
    "reduce_lr = tf.keras.callbacks.ReduceLROnPlateau()\n",
    "progress_callback = tf.keras.callbacks.LambdaCallback(on_epoch_end=log_progression)"
   ]
  },
  {
   "cell_type": "code",
   "execution_count": 22,
   "id": "752f65d1",
   "metadata": {
    "ExecuteTime": {
     "end_time": "2021-05-05T19:00:59.565149Z",
     "start_time": "2021-05-05T18:55:45.544808Z"
    }
   },
   "outputs": [
    {
     "name": "stdout",
     "output_type": "stream",
     "text": [
      "Epoch 1/100\n",
      "1813/1813 [==============================] - 15s 8ms/step - loss: 0.4807 - acc: 0.8519 - val_loss: 0.1105 - val_acc: 0.9675\n",
      "Epoch 2/100\n",
      "1813/1813 [==============================] - 12s 7ms/step - loss: 0.1918 - acc: 0.9472 - val_loss: 0.0759 - val_acc: 0.9790\n",
      "Epoch 3/100\n",
      "1813/1813 [==============================] - 12s 7ms/step - loss: 0.1494 - acc: 0.9577 - val_loss: 0.0642 - val_acc: 0.9820\n",
      "Epoch 4/100\n",
      "1813/1813 [==============================] - 14s 7ms/step - loss: 0.1302 - acc: 0.9635 - val_loss: 0.0610 - val_acc: 0.9835\n",
      "Epoch 5/100\n",
      "1813/1813 [==============================] - 13s 7ms/step - loss: 0.1161 - acc: 0.9669 - val_loss: 0.0585 - val_acc: 0.9835\n",
      "Epoch 6/100\n",
      "1813/1813 [==============================] - 13s 7ms/step - loss: 0.1096 - acc: 0.9692 - val_loss: 0.0504 - val_acc: 0.9870\n",
      "Epoch 7/100\n",
      "1813/1813 [==============================] - 14s 8ms/step - loss: 0.0996 - acc: 0.9717 - val_loss: 0.0455 - val_acc: 0.9855\n",
      "Epoch 8/100\n",
      "1813/1813 [==============================] - 14s 8ms/step - loss: 0.1004 - acc: 0.9726 - val_loss: 0.0476 - val_acc: 0.9850\n",
      "Epoch 9/100\n",
      "1813/1813 [==============================] - 14s 8ms/step - loss: 0.0906 - acc: 0.9743 - val_loss: 0.0570 - val_acc: 0.9850\n",
      "Epoch 10/100\n",
      "1813/1813 [==============================] - 14s 8ms/step - loss: 0.0918 - acc: 0.9739 - val_loss: 0.0486 - val_acc: 0.9860\n",
      "Epoch 11/100\n",
      "1813/1813 [==============================] - 14s 7ms/step - loss: 0.0913 - acc: 0.9742 - val_loss: 0.0440 - val_acc: 0.9865\n",
      "Epoch 12/100\n",
      "1813/1813 [==============================] - 13s 7ms/step - loss: 0.0898 - acc: 0.9747 - val_loss: 0.0498 - val_acc: 0.9845\n",
      "Epoch 13/100\n",
      "1813/1813 [==============================] - 13s 7ms/step - loss: 0.0860 - acc: 0.9753 - val_loss: 0.0461 - val_acc: 0.9860\n",
      "Epoch 14/100\n",
      "1813/1813 [==============================] - 14s 8ms/step - loss: 0.0822 - acc: 0.9771 - val_loss: 0.0387 - val_acc: 0.9895\n",
      "Epoch 15/100\n",
      "1813/1813 [==============================] - 13s 7ms/step - loss: 0.0828 - acc: 0.9765 - val_loss: 0.0471 - val_acc: 0.9885\n",
      "Epoch 16/100\n",
      "1813/1813 [==============================] - 13s 7ms/step - loss: 0.0756 - acc: 0.9785 - val_loss: 0.0548 - val_acc: 0.9885\n",
      "Epoch 17/100\n",
      "1813/1813 [==============================] - 13s 7ms/step - loss: 0.0811 - acc: 0.9768 - val_loss: 0.0485 - val_acc: 0.9890\n",
      "Epoch 18/100\n",
      "1813/1813 [==============================] - 13s 7ms/step - loss: 0.0804 - acc: 0.9777 - val_loss: 0.0301 - val_acc: 0.9910\n",
      "Epoch 19/100\n",
      "1813/1813 [==============================] - 14s 7ms/step - loss: 0.0792 - acc: 0.9772 - val_loss: 0.0377 - val_acc: 0.9895\n",
      "Epoch 20/100\n",
      "1813/1813 [==============================] - 13s 7ms/step - loss: 0.0766 - acc: 0.9778 - val_loss: 0.0357 - val_acc: 0.9885\n",
      "Epoch 21/100\n",
      "1813/1813 [==============================] - 14s 7ms/step - loss: 0.0721 - acc: 0.9795 - val_loss: 0.0373 - val_acc: 0.9855\n",
      "Epoch 22/100\n",
      "1813/1813 [==============================] - 14s 7ms/step - loss: 0.0725 - acc: 0.9790 - val_loss: 0.0386 - val_acc: 0.9910\n",
      "Epoch 23/100\n",
      "1813/1813 [==============================] - 13s 7ms/step - loss: 0.0745 - acc: 0.9793 - val_loss: 0.0378 - val_acc: 0.9905\n"
     ]
    },
    {
     "data": {
      "text/plain": [
       "<tensorflow.python.keras.callbacks.History at 0x1d1bdbb1408>"
      ]
     },
     "execution_count": 22,
     "metadata": {},
     "output_type": "execute_result"
    }
   ],
   "source": [
    "stn.compile(optimizer = Adam(), loss = \"sparse_categorical_crossentropy\", metrics = [\"acc\"])\n",
    "stn.fit(train_ds, validation_data=val_ds,\n",
    "        epochs=EPOCHS,\n",
    "        callbacks=[es_callback, reduce_lr, progress_callback])"
   ]
  },
  {
   "cell_type": "code",
   "execution_count": 23,
   "id": "58a8079c",
   "metadata": {
    "ExecuteTime": {
     "end_time": "2021-05-05T19:01:01.024154Z",
     "start_time": "2021-05-05T19:00:59.569173Z"
    }
   },
   "outputs": [
    {
     "name": "stdout",
     "output_type": "stream",
     "text": [
      "313/313 [==============================] - 1s 4ms/step - loss: 0.0346 - acc: 0.9904\n",
      "Test accuracy: 99.04%\n"
     ]
    }
   ],
   "source": [
    "_, test_acc = stn.evaluate(test_ds)\n",
    "print(\"Test accuracy: {:.2f}%\".format(test_acc * 100))"
   ]
  },
  {
   "cell_type": "markdown",
   "id": "aedec12e",
   "metadata": {},
   "source": [
    "# Train model without Spatial Transformer"
   ]
  },
  {
   "cell_type": "code",
   "execution_count": 24,
   "id": "f120146c",
   "metadata": {
    "ExecuteTime": {
     "end_time": "2021-05-05T19:01:01.133155Z",
     "start_time": "2021-05-05T19:01:01.027170Z"
    }
   },
   "outputs": [
    {
     "name": "stdout",
     "output_type": "stream",
     "text": [
      "Model: \"functional_5\"\n",
      "_________________________________________________________________\n",
      "Layer (type)                 Output Shape              Param #   \n",
      "=================================================================\n",
      "input_2 (InputLayer)         [(None, 28, 28, 1)]       0         \n",
      "_________________________________________________________________\n",
      "conv2d_6 (Conv2D)            (None, 24, 24, 10)        260       \n",
      "_________________________________________________________________\n",
      "max_pooling2d_6 (MaxPooling2 (None, 12, 12, 10)        0         \n",
      "_________________________________________________________________\n",
      "conv2d_7 (Conv2D)            (None, 8, 8, 20)          5020      \n",
      "_________________________________________________________________\n",
      "spatial_dropout2d_1 (Spatial (None, 8, 8, 20)          0         \n",
      "_________________________________________________________________\n",
      "max_pooling2d_7 (MaxPooling2 (None, 4, 4, 20)          0         \n",
      "_________________________________________________________________\n",
      "tf_op_layer_Reshape_1 (Tenso [(None, 320)]             0         \n",
      "_________________________________________________________________\n",
      "dense_6 (Dense)              (None, 50)                16050     \n",
      "_________________________________________________________________\n",
      "dropout_1 (Dropout)          (None, 50)                0         \n",
      "_________________________________________________________________\n",
      "dense_7 (Dense)              (None, 10)                510       \n",
      "=================================================================\n",
      "Total params: 21,840\n",
      "Trainable params: 21,840\n",
      "Non-trainable params: 0\n",
      "_________________________________________________________________\n"
     ]
    }
   ],
   "source": [
    "model = get_model(use_stn=False)\n",
    "model.summary()"
   ]
  },
  {
   "cell_type": "code",
   "execution_count": 25,
   "id": "cef4f34f",
   "metadata": {
    "ExecuteTime": {
     "end_time": "2021-05-05T19:03:25.186528Z",
     "start_time": "2021-05-05T19:01:01.136152Z"
    }
   },
   "outputs": [
    {
     "name": "stdout",
     "output_type": "stream",
     "text": [
      "Epoch 1/100\n",
      "1813/1813 [==============================] - 7s 4ms/step - loss: 0.5548 - acc: 0.8216 - val_loss: 0.1114 - val_acc: 0.9680\n",
      "Epoch 2/100\n",
      "1813/1813 [==============================] - 7s 4ms/step - loss: 0.2425 - acc: 0.9295 - val_loss: 0.0878 - val_acc: 0.9740\n",
      "Epoch 3/100\n",
      "1813/1813 [==============================] - 7s 4ms/step - loss: 0.2016 - acc: 0.9414 - val_loss: 0.0855 - val_acc: 0.9780\n",
      "Epoch 4/100\n",
      "1813/1813 [==============================] - 7s 4ms/step - loss: 0.1773 - acc: 0.9482 - val_loss: 0.0791 - val_acc: 0.9815\n",
      "Epoch 5/100\n",
      "1813/1813 [==============================] - 7s 4ms/step - loss: 0.1666 - acc: 0.9523 - val_loss: 0.0725 - val_acc: 0.9825\n",
      "Epoch 6/100\n",
      "1813/1813 [==============================] - 7s 4ms/step - loss: 0.1549 - acc: 0.9543 - val_loss: 0.0711 - val_acc: 0.9830\n",
      "Epoch 7/100\n",
      "1813/1813 [==============================] - 7s 4ms/step - loss: 0.1481 - acc: 0.9565 - val_loss: 0.0743 - val_acc: 0.9815\n",
      "Epoch 8/100\n",
      "1813/1813 [==============================] - 7s 4ms/step - loss: 0.1424 - acc: 0.9581 - val_loss: 0.0666 - val_acc: 0.9835\n",
      "Epoch 9/100\n",
      "1813/1813 [==============================] - 7s 4ms/step - loss: 0.1370 - acc: 0.9595 - val_loss: 0.0603 - val_acc: 0.9850\n",
      "Epoch 10/100\n",
      "1813/1813 [==============================] - 7s 4ms/step - loss: 0.1374 - acc: 0.9598 - val_loss: 0.0595 - val_acc: 0.9845\n",
      "Epoch 11/100\n",
      "1813/1813 [==============================] - 7s 4ms/step - loss: 0.1304 - acc: 0.9606 - val_loss: 0.0590 - val_acc: 0.9850\n",
      "Epoch 12/100\n",
      "1813/1813 [==============================] - 7s 4ms/step - loss: 0.1288 - acc: 0.9622 - val_loss: 0.0601 - val_acc: 0.9870\n",
      "Epoch 13/100\n",
      "1813/1813 [==============================] - 7s 4ms/step - loss: 0.1256 - acc: 0.9629 - val_loss: 0.0556 - val_acc: 0.9870\n",
      "Epoch 14/100\n",
      "1813/1813 [==============================] - 7s 4ms/step - loss: 0.1238 - acc: 0.9621 - val_loss: 0.0545 - val_acc: 0.9850\n",
      "Epoch 15/100\n",
      "1813/1813 [==============================] - 7s 4ms/step - loss: 0.1235 - acc: 0.9629 - val_loss: 0.0516 - val_acc: 0.9875\n",
      "Epoch 16/100\n",
      "1813/1813 [==============================] - 8s 4ms/step - loss: 0.1187 - acc: 0.9650 - val_loss: 0.0560 - val_acc: 0.9890\n",
      "Epoch 17/100\n",
      "1813/1813 [==============================] - 7s 4ms/step - loss: 0.1195 - acc: 0.9650 - val_loss: 0.0557 - val_acc: 0.9875\n",
      "Epoch 18/100\n",
      "1813/1813 [==============================] - 7s 4ms/step - loss: 0.1118 - acc: 0.9662 - val_loss: 0.0550 - val_acc: 0.9875\n",
      "Epoch 19/100\n",
      "1813/1813 [==============================] - 7s 4ms/step - loss: 0.1104 - acc: 0.9677 - val_loss: 0.0535 - val_acc: 0.9860\n",
      "Epoch 20/100\n",
      "1813/1813 [==============================] - 7s 4ms/step - loss: 0.1130 - acc: 0.9665 - val_loss: 0.0545 - val_acc: 0.9890\n"
     ]
    },
    {
     "data": {
      "text/plain": [
       "<tensorflow.python.keras.callbacks.History at 0x1d2d1684cc8>"
      ]
     },
     "execution_count": 25,
     "metadata": {},
     "output_type": "execute_result"
    }
   ],
   "source": [
    "model.compile(optimizer = Adam(), loss = \"sparse_categorical_crossentropy\", metrics = [\"acc\"])\n",
    "model.fit(train_ds, validation_data=val_ds,\n",
    "        epochs=EPOCHS,\n",
    "        callbacks=[es_callback, reduce_lr])"
   ]
  },
  {
   "cell_type": "code",
   "execution_count": 26,
   "id": "a6406563",
   "metadata": {
    "ExecuteTime": {
     "end_time": "2021-05-05T19:03:26.068375Z",
     "start_time": "2021-05-05T19:03:25.189376Z"
    }
   },
   "outputs": [
    {
     "name": "stdout",
     "output_type": "stream",
     "text": [
      "313/313 [==============================] - 1s 3ms/step - loss: 0.0368 - acc: 0.9890\n",
      "Test accuracy: 98.90%\n"
     ]
    }
   ],
   "source": [
    "_, test_acc = model.evaluate(test_ds)\n",
    "print(\"Test accuracy: {:.2f}%\".format(test_acc * 100))"
   ]
  },
  {
   "cell_type": "markdown",
   "id": "1ab6e2dd",
   "metadata": {},
   "source": [
    "# Visualize Spatial Transformer's output"
   ]
  },
  {
   "cell_type": "code",
   "execution_count": 27,
   "id": "5276527a",
   "metadata": {
    "ExecuteTime": {
     "end_time": "2021-05-05T19:03:30.100795Z",
     "start_time": "2021-05-05T19:03:26.071374Z"
    }
   },
   "outputs": [
    {
     "data": {
      "image/png": "[encoded data removed]",
      "text/plain": [
       "<Figure size 720x720 with 25 Axes>"
      ]
     },
     "metadata": {
      "needs_background": "light"
     },
     "output_type": "display_data"
    },
    {
     "data": {
      "image/png": "[encoded data removed]",
      "text/plain": [
       "<Figure size 720x720 with 25 Axes>"
      ]
     },
     "metadata": {
      "needs_background": "light"
     },
     "output_type": "display_data"
    }
   ],
   "source": [
    "TEST_OFFSET = 7\n",
    "\n",
    "# Original images\n",
    "_ = visualize_images(x_test, y_test, TEST_OFFSET)\n",
    "\n",
    "# Transformed images\n",
    "transformed_x = st_module(x_test[TEST_OFFSET:])\n",
    "_ = visualize_images(transformed_x.numpy(), y_test[TEST_OFFSET:])"
   ]
  },
  {
   "cell_type": "markdown",
   "id": "fd6a87d9",
   "metadata": {},
   "source": [
    "# Visualize learning progress of STN"
   ]
  },
  {
   "cell_type": "code",
   "execution_count": 55,
   "id": "ceef4872",
   "metadata": {
    "ExecuteTime": {
     "end_time": "2021-05-05T19:19:03.610389Z",
     "start_time": "2021-05-05T19:19:03.589411Z"
    }
   },
   "outputs": [
    {
     "name": "stdout",
     "output_type": "stream",
     "text": [
      "The tensorboard extension is already loaded. To reload it, use:\n",
      "  %reload_ext tensorboard\n"
     ]
    },
    {
     "data": {
      "text/plain": [
       "ERROR: Failed to start 'D:/Python/Anaconda3/envs/py3.7/Lib/site-\n",
       "packages/tensorboard' (set by the `TENSORBOARD_BINARY` environment\n",
       "variable): [WinError 5] Access is denied"
      ]
     },
     "metadata": {},
     "output_type": "display_data"
    }
   ],
   "source": [
    "%load_ext tensorboard\n",
    "%tensorboard --logdir \"logs/stn_progress\""
   ]
  },
  {
   "cell_type": "code",
   "execution_count": 51,
   "id": "920a1447",
   "metadata": {
    "ExecuteTime": {
     "end_time": "2021-05-05T19:11:40.524548Z",
     "start_time": "2021-05-05T19:11:40.473609Z"
    }
   },
   "outputs": [
    {
     "name": "stderr",
     "output_type": "stream",
     "text": [
      "tar: Couldn't open logs/stn_progress/events.out.tfevents.1620240945.DESKTOP-H25NGAB.24696.1112.v2: Permission denied\n",
      "tar: Error exit delayed from previous errors.\n"
     ]
    }
   ],
   "source": [
    "!tar cf logs.tar.gz logs"
   ]
  },
  {
   "cell_type": "code",
   "execution_count": null,
   "id": "b8f98992",
   "metadata": {},
   "outputs": [],
   "source": []
  }
 ],
 "metadata": {
  "kernelspec": {
   "display_name": "Python 3",
   "language": "python",
   "name": "python3"
  },
  "language_info": {
   "codemirror_mode": {
    "name": "ipython",
    "version": 3
   },
   "file_extension": ".py",
   "mimetype": "text/x-python",
   "name": "python",
   "nbconvert_exporter": "python",
   "pygments_lexer": "ipython3",
   "version": "3.7.5"
  },
  "toc": {
   "base_numbering": 1,
   "nav_menu": {},
   "number_sections": true,
   "sideBar": true,
   "skip_h1_title": false,
   "title_cell": "Table of Contents",
   "title_sidebar": "Contents",
   "toc_cell": true,
   "toc_position": {
    "height": "calc(100% - 180px)",
    "left": "10px",
    "top": "150px",
    "width": "307.038px"
   },
   "toc_section_display": true,
   "toc_window_display": true
  }
 },
 "nbformat": 4,
 "nbformat_minor": 5
}
