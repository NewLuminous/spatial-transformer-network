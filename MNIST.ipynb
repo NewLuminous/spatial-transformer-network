{
 "cells": [
  {
   "cell_type": "markdown",
   "id": "76415521",
   "metadata": {
    "toc": true
   },
   "source": [
    "<h1>Table of Contents<span class=\"tocSkip\"></span></h1>\n",
    "<div class=\"toc\"><ul class=\"toc-item\"><li><span><a href=\"#Import-libraries\" data-toc-modified-id=\"Import-libraries-1\"><span class=\"toc-item-num\">1&nbsp;&nbsp;</span>Import libraries</a></span></li><li><span><a href=\"#Define-some-utility-functions\" data-toc-modified-id=\"Define-some-utility-functions-2\"><span class=\"toc-item-num\">2&nbsp;&nbsp;</span>Define some utility functions</a></span></li><li><span><a href=\"#Load-data\" data-toc-modified-id=\"Load-data-3\"><span class=\"toc-item-num\">3&nbsp;&nbsp;</span>Load data</a></span></li><li><span><a href=\"#Build-model\" data-toc-modified-id=\"Build-model-4\"><span class=\"toc-item-num\">4&nbsp;&nbsp;</span>Build model</a></span></li><li><span><a href=\"#Create-data-loaders\" data-toc-modified-id=\"Create-data-loaders-5\"><span class=\"toc-item-num\">5&nbsp;&nbsp;</span>Create data loaders</a></span></li><li><span><a href=\"#Train-model-with-Spatial-Transformer\" data-toc-modified-id=\"Train-model-with-Spatial-Transformer-6\"><span class=\"toc-item-num\">6&nbsp;&nbsp;</span>Train model with Spatial Transformer</a></span></li><li><span><a href=\"#Train-model-without-Spatial-Transformer\" data-toc-modified-id=\"Train-model-without-Spatial-Transformer-7\"><span class=\"toc-item-num\">7&nbsp;&nbsp;</span>Train model without Spatial Transformer</a></span></li><li><span><a href=\"#Visualize-Spatial-Transformer's-output\" data-toc-modified-id=\"Visualize-Spatial-Transformer's-output-8\"><span class=\"toc-item-num\">8&nbsp;&nbsp;</span>Visualize Spatial Transformer's output</a></span></li><li><span><a href=\"#Visualize-learning-progress-of-STN\" data-toc-modified-id=\"Visualize-learning-progress-of-STN-9\"><span class=\"toc-item-num\">9&nbsp;&nbsp;</span>Visualize learning progress of STN</a></span></li></ul></div>"
   ]
  },
  {
   "cell_type": "markdown",
   "id": "8a0ed648",
   "metadata": {},
   "source": [
    "# Import libraries"
   ]
  },
  {
   "cell_type": "code",
   "execution_count": 34,
   "id": "d827b065",
   "metadata": {
    "ExecuteTime": {
     "end_time": "2021-05-07T04:00:26.742601Z",
     "start_time": "2021-05-07T04:00:23.351311Z"
    }
   },
   "outputs": [],
   "source": [
    "import io\n",
    "import numpy as np\n",
    "import pandas as pd\n",
    "import tensorflow as tf\n",
    "import matplotlib.pyplot as plt\n",
    "import seaborn as sns\n",
    "from sklearn.metrics import confusion_matrix\n",
    "from tensorflow.keras.datasets import mnist"
   ]
  },
  {
   "cell_type": "markdown",
   "id": "21e3f434",
   "metadata": {},
   "source": [
    "# Define some utility functions"
   ]
  },
  {
   "cell_type": "code",
   "execution_count": 2,
   "id": "9baba33f",
   "metadata": {
    "ExecuteTime": {
     "end_time": "2021-05-06T19:40:49.515539Z",
     "start_time": "2021-05-06T19:40:49.507541Z"
    }
   },
   "outputs": [],
   "source": [
    "def visualize_image(image):\n",
    "    plt.imshow(image.squeeze(), cmap=\"binary\")\n",
    "    plt.show()"
   ]
  },
  {
   "cell_type": "code",
   "execution_count": 48,
   "id": "8e187f6c",
   "metadata": {
    "ExecuteTime": {
     "end_time": "2021-05-07T04:17:34.344020Z",
     "start_time": "2021-05-07T04:17:34.325021Z"
    }
   },
   "outputs": [],
   "source": [
    "def visualize_images(images, labels, offset=0):\n",
    "    figure = plt.figure(figsize=(10, 10))\n",
    "    for i in range(offset, offset+25):\n",
    "        ax = plt.subplot(5, 5, i-offset+1)\n",
    "        plt.imshow(images[i].squeeze(), cmap=\"binary\")\n",
    "        plt.title(labels[i])\n",
    "        plt.axis(\"off\")\n",
    "    return figure"
   ]
  },
  {
   "cell_type": "code",
   "execution_count": 4,
   "id": "1c7dff2c",
   "metadata": {
    "ExecuteTime": {
     "end_time": "2021-05-06T19:40:51.491036Z",
     "start_time": "2021-05-06T19:40:51.483000Z"
    }
   },
   "outputs": [],
   "source": [
    "# Source: https://www.tensorflow.org/tensorboard/image_summaries\n",
    "def plot_to_image(figure):\n",
    "    # Save the plot to a PNG in memory.\n",
    "    buf = io.BytesIO()\n",
    "    plt.savefig(buf, format='png')\n",
    "    \n",
    "    # Closing the figure prevents it from being displayed directly inside\n",
    "    # the notebook.\n",
    "    plt.close(figure)\n",
    "    buf.seek(0)\n",
    "    \n",
    "    # Convert PNG buffer to TF image\n",
    "    image = tf.image.decode_png(buf.getvalue(), channels=4)\n",
    "    \n",
    "    # Add the batch dimension\n",
    "    image = tf.expand_dims(image, 0)\n",
    "    return image"
   ]
  },
  {
   "cell_type": "code",
   "execution_count": 49,
   "id": "cfbe3d4c",
   "metadata": {
    "ExecuteTime": {
     "end_time": "2021-05-07T04:17:47.861137Z",
     "start_time": "2021-05-07T04:17:47.844138Z"
    }
   },
   "outputs": [],
   "source": [
    "def plot_confusion_matrix(y_test, y_pred):\n",
    "    cm = confusion_matrix(y_test, y_pred)\n",
    "    cm_df = pd.DataFrame(data=cm)\n",
    "\n",
    "    sns.heatmap(cm_df, annot=True, fmt='d', cmap='YlGnBu')\n",
    "    plt.xlabel('Predicted')\n",
    "    plt.ylabel('Actual')"
   ]
  },
  {
   "cell_type": "markdown",
   "id": "5e86f8e7",
   "metadata": {},
   "source": [
    "# Load data"
   ]
  },
  {
   "cell_type": "code",
   "execution_count": 5,
   "id": "77a7d33d",
   "metadata": {
    "ExecuteTime": {
     "end_time": "2021-05-06T19:40:54.866413Z",
     "start_time": "2021-05-06T19:40:54.555914Z"
    }
   },
   "outputs": [],
   "source": [
    "(x_train, y_train), (x_test, y_test) = mnist.load_data()"
   ]
  },
  {
   "cell_type": "code",
   "execution_count": 6,
   "id": "bf6f388a",
   "metadata": {
    "ExecuteTime": {
     "end_time": "2021-05-06T19:40:54.882285Z",
     "start_time": "2021-05-06T19:40:54.869282Z"
    }
   },
   "outputs": [
    {
     "data": {
      "text/plain": [
       "(60000, 28, 28)"
      ]
     },
     "execution_count": 6,
     "metadata": {},
     "output_type": "execute_result"
    }
   ],
   "source": [
    "x_train.shape"
   ]
  },
  {
   "cell_type": "code",
   "execution_count": 7,
   "id": "184ab03e",
   "metadata": {
    "ExecuteTime": {
     "end_time": "2021-05-06T19:40:55.024467Z",
     "start_time": "2021-05-06T19:40:55.015501Z"
    }
   },
   "outputs": [
    {
     "data": {
      "text/plain": [
       "(10000, 28, 28)"
      ]
     },
     "execution_count": 7,
     "metadata": {},
     "output_type": "execute_result"
    }
   ],
   "source": [
    "x_test.shape"
   ]
  },
  {
   "cell_type": "code",
   "execution_count": 8,
   "id": "e77305fb",
   "metadata": {
    "ExecuteTime": {
     "end_time": "2021-05-06T19:40:56.207787Z",
     "start_time": "2021-05-06T19:40:56.015739Z"
    }
   },
   "outputs": [],
   "source": [
    "def preprocess(images):\n",
    "    norm_images = images.astype(\"float32\") / 255.0\n",
    "    return np.reshape(norm_images, (-1, 28, 28, 1))\n",
    "\n",
    "# Normalize images\n",
    "x_train = preprocess(x_train)\n",
    "x_test = preprocess(x_test)"
   ]
  },
  {
   "cell_type": "markdown",
   "id": "d3e04f27",
   "metadata": {},
   "source": [
    "# Build model"
   ]
  },
  {
   "cell_type": "code",
   "execution_count": 9,
   "id": "b0ab3ae9",
   "metadata": {
    "ExecuteTime": {
     "end_time": "2021-05-06T19:42:44.951499Z",
     "start_time": "2021-05-06T19:42:44.938458Z"
    }
   },
   "outputs": [],
   "source": [
    "from tensorflow.keras.models import Model\n",
    "from tensorflow.keras.layers import Input, Conv2D, MaxPooling2D, Dense, Dropout, SpatialDropout2D\n",
    "from tensorflow.keras.optimizers import Adam\n",
    "from layers.spatial_transformer import SpatialTransformer"
   ]
  },
  {
   "cell_type": "code",
   "execution_count": 10,
   "id": "e4f5e058",
   "metadata": {
    "ExecuteTime": {
     "end_time": "2021-05-06T19:42:47.148338Z",
     "start_time": "2021-05-06T19:42:47.002373Z"
    }
   },
   "outputs": [
    {
     "data": {
      "image/png": "[encoded data removed]",
      "text/plain": [
       "<Figure size 432x288 with 1 Axes>"
      ]
     },
     "metadata": {
      "needs_background": "light"
     },
     "output_type": "display_data"
    }
   ],
   "source": [
    "# Test with an image\n",
    "visualize_image(x_train[1])"
   ]
  },
  {
   "cell_type": "code",
   "execution_count": 11,
   "id": "147f947f",
   "metadata": {
    "ExecuteTime": {
     "end_time": "2021-05-06T19:42:51.939187Z",
     "start_time": "2021-05-06T19:42:50.823412Z"
    },
    "scrolled": true
   },
   "outputs": [
    {
     "data": {
      "image/png": "[encoded data removed]",
      "text/plain": [
       "<Figure size 432x288 with 1 Axes>"
      ]
     },
     "metadata": {
      "needs_background": "light"
     },
     "output_type": "display_data"
    }
   ],
   "source": [
    "# It should look almost the same after the transformation because the Spatial Transformer hasn't learned anything\n",
    "transformed_x = SpatialTransformer()(np.expand_dims(x_train[1], 0))\n",
    "visualize_image(transformed_x.numpy())"
   ]
  },
  {
   "cell_type": "code",
   "execution_count": 12,
   "id": "ffa53346",
   "metadata": {
    "ExecuteTime": {
     "end_time": "2021-05-06T19:42:56.438699Z",
     "start_time": "2021-05-06T19:42:56.430664Z"
    }
   },
   "outputs": [],
   "source": [
    "# Hyperparameters\n",
    "IMG_SIZE = 28\n",
    "VAL_SIZE = 2000\n",
    "BATCH_SIZE = 32\n",
    "EPOCHS = 100"
   ]
  },
  {
   "cell_type": "code",
   "execution_count": 13,
   "id": "703f7d95",
   "metadata": {
    "ExecuteTime": {
     "end_time": "2021-05-06T19:43:45.740173Z",
     "start_time": "2021-05-06T19:43:45.724212Z"
    }
   },
   "outputs": [],
   "source": [
    "def get_model(use_stn=True):\n",
    "    inputs = Input(shape=(IMG_SIZE, IMG_SIZE, 1))\n",
    "    if use_stn:\n",
    "        x = SpatialTransformer()(inputs)\n",
    "    else:\n",
    "        x = inputs\n",
    "    conv_1 = Conv2D(10, (5, 5), activation=\"relu\", kernel_initializer=\"he_normal\")(x)\n",
    "    maxpooling_1 = MaxPooling2D(pool_size=(2, 2))(conv_1)\n",
    "    conv_2 = Conv2D(20, (5, 5), activation=\"relu\", kernel_initializer=\"he_normal\")(maxpooling_1)\n",
    "    dropout_1 = SpatialDropout2D(0.5)(conv_2)\n",
    "    maxpooling_2 = MaxPooling2D(pool_size=(2, 2))(dropout_1)\n",
    "    x = tf.reshape(maxpooling_2, (-1, 320))\n",
    "    dense_1 = Dense(50, activation=\"relu\", kernel_initializer=\"he_normal\")(x)\n",
    "    dropout_2 = Dropout(0.5)(dense_1)\n",
    "    dense_2 = Dense(10, activation=\"softmax\")(dropout_2)\n",
    "    \n",
    "    model = Model(inputs=inputs, outputs=dense_2)\n",
    "    return model"
   ]
  },
  {
   "cell_type": "markdown",
   "id": "b20431ef",
   "metadata": {},
   "source": [
    "# Create data loaders"
   ]
  },
  {
   "cell_type": "code",
   "execution_count": 14,
   "id": "70c620a0",
   "metadata": {
    "ExecuteTime": {
     "end_time": "2021-05-06T19:43:50.523314Z",
     "start_time": "2021-05-06T19:43:50.499321Z"
    }
   },
   "outputs": [],
   "source": [
    "x_val, y_val = x_train[:VAL_SIZE], y_train[:VAL_SIZE]\n",
    "new_x_train, new_y_train = x_train[VAL_SIZE:], y_train[VAL_SIZE:]\n",
    "\n",
    "train_ds = (\n",
    "    tf.data.Dataset.from_tensor_slices((new_x_train, new_y_train))\n",
    "    .shuffle(BATCH_SIZE * 100)\n",
    "    .batch(BATCH_SIZE)\n",
    ")\n",
    "\n",
    "val_ds = tf.data.Dataset.from_tensor_slices((x_val, y_val)).batch(BATCH_SIZE)\n",
    "test_ds = tf.data.Dataset.from_tensor_slices((x_test, y_test)).batch(BATCH_SIZE)"
   ]
  },
  {
   "cell_type": "markdown",
   "id": "ae2a9f9a",
   "metadata": {},
   "source": [
    "# Train model with Spatial Transformer"
   ]
  },
  {
   "cell_type": "code",
   "execution_count": 15,
   "id": "525fdb4b",
   "metadata": {
    "ExecuteTime": {
     "end_time": "2021-05-06T19:44:31.709319Z",
     "start_time": "2021-05-06T19:44:30.639588Z"
    },
    "scrolled": false
   },
   "outputs": [
    {
     "name": "stdout",
     "output_type": "stream",
     "text": [
      "Model: \"model\"\n",
      "_________________________________________________________________\n",
      "Layer (type)                 Output Shape              Param #   \n",
      "=================================================================\n",
      "input_1 (InputLayer)         [(None, 28, 28, 1)]       0         \n",
      "_________________________________________________________________\n",
      "spatial_transformer_1 (Spati (None, 28, 28, 1)         5520      \n",
      "_________________________________________________________________\n",
      "conv2d_4 (Conv2D)            (None, 24, 24, 10)        260       \n",
      "_________________________________________________________________\n",
      "max_pooling2d_4 (MaxPooling2 (None, 12, 12, 10)        0         \n",
      "_________________________________________________________________\n",
      "conv2d_5 (Conv2D)            (None, 8, 8, 20)          5020      \n",
      "_________________________________________________________________\n",
      "spatial_dropout2d (SpatialDr (None, 8, 8, 20)          0         \n",
      "_________________________________________________________________\n",
      "max_pooling2d_5 (MaxPooling2 (None, 4, 4, 20)          0         \n",
      "_________________________________________________________________\n",
      "tf.reshape (TFOpLambda)      (None, 320)               0         \n",
      "_________________________________________________________________\n",
      "dense_4 (Dense)              (None, 50)                16050     \n",
      "_________________________________________________________________\n",
      "dropout (Dropout)            (None, 50)                0         \n",
      "_________________________________________________________________\n",
      "dense_5 (Dense)              (None, 10)                510       \n",
      "=================================================================\n",
      "Total params: 27,360\n",
      "Trainable params: 27,360\n",
      "Non-trainable params: 0\n",
      "_________________________________________________________________\n"
     ]
    }
   ],
   "source": [
    "stn = get_model()\n",
    "stn.summary()"
   ]
  },
  {
   "cell_type": "code",
   "execution_count": 17,
   "id": "bf2bd75f",
   "metadata": {
    "ExecuteTime": {
     "end_time": "2021-05-06T19:45:35.072625Z",
     "start_time": "2021-05-06T19:45:35.051626Z"
    }
   },
   "outputs": [],
   "source": [
    "# Log how the transformation params learned by Spatial Transformer evolve over time.\n",
    "st_module = tf.keras.Model(stn.input, stn.layers[-10].output)\n",
    "file_writer_cm = tf.summary.create_file_writer(\"logs/stn_progress\")\n",
    "\n",
    "def log_progression(epoch, logs):\n",
    "    transformed_tests = st_module(x_test[:25])\n",
    "    figure = visualize_images(transformed_tests.numpy(), y_test[:25])\n",
    "    progress_image = plot_to_image(figure)\n",
    "    with file_writer_cm.as_default():\n",
    "        tf.summary.image(\"Progression\", progress_image, step=epoch)"
   ]
  },
  {
   "cell_type": "code",
   "execution_count": 18,
   "id": "5a8164d7",
   "metadata": {
    "ExecuteTime": {
     "end_time": "2021-05-06T19:45:41.133508Z",
     "start_time": "2021-05-06T19:45:41.114466Z"
    }
   },
   "outputs": [],
   "source": [
    "# Callbacks\n",
    "es_callback = tf.keras.callbacks.EarlyStopping(patience=5, restore_best_weights=True)\n",
    "reduce_lr = tf.keras.callbacks.ReduceLROnPlateau()\n",
    "progress_callback = tf.keras.callbacks.LambdaCallback(on_epoch_end=log_progression)"
   ]
  },
  {
   "cell_type": "code",
   "execution_count": 19,
   "id": "c6561a35",
   "metadata": {
    "ExecuteTime": {
     "end_time": "2021-05-06T19:56:35.475372Z",
     "start_time": "2021-05-06T19:46:11.568392Z"
    }
   },
   "outputs": [
    {
     "name": "stdout",
     "output_type": "stream",
     "text": [
      "Epoch 1/100\n",
      "1813/1813 [==============================] - 38s 20ms/step - loss: 0.9509 - acc: 0.6841 - val_loss: 0.0979 - val_acc: 0.9710\n",
      "Epoch 2/100\n",
      "1813/1813 [==============================] - 36s 20ms/step - loss: 0.2096 - acc: 0.9414 - val_loss: 0.0754 - val_acc: 0.9760\n",
      "Epoch 3/100\n",
      "1813/1813 [==============================] - 35s 20ms/step - loss: 0.1582 - acc: 0.9549 - val_loss: 0.0676 - val_acc: 0.9815\n",
      "Epoch 4/100\n",
      "1813/1813 [==============================] - 35s 19ms/step - loss: 0.1368 - acc: 0.9615 - val_loss: 0.0633 - val_acc: 0.9840\n",
      "Epoch 5/100\n",
      "1813/1813 [==============================] - 32s 17ms/step - loss: 0.1212 - acc: 0.9663 - val_loss: 0.0518 - val_acc: 0.9870\n",
      "Epoch 6/100\n",
      "1813/1813 [==============================] - 30s 16ms/step - loss: 0.1138 - acc: 0.9657 - val_loss: 0.0463 - val_acc: 0.9890\n",
      "Epoch 7/100\n",
      "1813/1813 [==============================] - 34s 18ms/step - loss: 0.1057 - acc: 0.9688 - val_loss: 0.0545 - val_acc: 0.9880\n",
      "Epoch 8/100\n",
      "1813/1813 [==============================] - 29s 16ms/step - loss: 0.1018 - acc: 0.9709 - val_loss: 0.0470 - val_acc: 0.9870\n",
      "Epoch 9/100\n",
      "1813/1813 [==============================] - 30s 16ms/step - loss: 0.0949 - acc: 0.9732 - val_loss: 0.0448 - val_acc: 0.9910\n",
      "Epoch 10/100\n",
      "1813/1813 [==============================] - 30s 17ms/step - loss: 0.0871 - acc: 0.9754 - val_loss: 0.0504 - val_acc: 0.9890\n",
      "Epoch 11/100\n",
      "1813/1813 [==============================] - 30s 16ms/step - loss: 0.0914 - acc: 0.9738 - val_loss: 0.0519 - val_acc: 0.9890\n",
      "Epoch 12/100\n",
      "1813/1813 [==============================] - 39s 21ms/step - loss: 0.0884 - acc: 0.9752 - val_loss: 0.0376 - val_acc: 0.9895\n",
      "Epoch 13/100\n",
      "1813/1813 [==============================] - 43s 24ms/step - loss: 0.0832 - acc: 0.9765 - val_loss: 0.0385 - val_acc: 0.9895\n",
      "Epoch 14/100\n",
      "1813/1813 [==============================] - 45s 25ms/step - loss: 0.0886 - acc: 0.9748 - val_loss: 0.0407 - val_acc: 0.9905\n",
      "Epoch 15/100\n",
      "1813/1813 [==============================] - 43s 23ms/step - loss: 0.0833 - acc: 0.9761 - val_loss: 0.0470 - val_acc: 0.9900\n",
      "Epoch 16/100\n",
      "1813/1813 [==============================] - 37s 20ms/step - loss: 0.0809 - acc: 0.9773 - val_loss: 0.0400 - val_acc: 0.9890\n",
      "Epoch 17/100\n",
      "1813/1813 [==============================] - 41s 23ms/step - loss: 0.0842 - acc: 0.9770 - val_loss: 0.0482 - val_acc: 0.9900\n"
     ]
    },
    {
     "data": {
      "text/plain": [
       "<tensorflow.python.keras.callbacks.History at 0x1b356daa1c8>"
      ]
     },
     "execution_count": 19,
     "metadata": {},
     "output_type": "execute_result"
    }
   ],
   "source": [
    "stn.compile(optimizer = Adam(), loss = \"sparse_categorical_crossentropy\", metrics = [\"acc\"])\n",
    "stn.fit(train_ds, validation_data=val_ds,\n",
    "        epochs=EPOCHS,\n",
    "        callbacks=[es_callback, reduce_lr, progress_callback])"
   ]
  },
  {
   "cell_type": "code",
   "execution_count": 20,
   "id": "40ea5eec",
   "metadata": {
    "ExecuteTime": {
     "end_time": "2021-05-06T19:56:38.797342Z",
     "start_time": "2021-05-06T19:56:35.480335Z"
    }
   },
   "outputs": [
    {
     "name": "stdout",
     "output_type": "stream",
     "text": [
      "313/313 [==============================] - 3s 10ms/step - loss: 0.0266 - acc: 0.9915\n",
      "Test accuracy: 99.15%\n"
     ]
    }
   ],
   "source": [
    "_, test_acc = stn.evaluate(test_ds)\n",
    "print(\"Test accuracy: {:.2f}%\".format(test_acc * 100))"
   ]
  },
  {
   "cell_type": "code",
   "execution_count": 50,
   "id": "a11d7d70",
   "metadata": {
    "ExecuteTime": {
     "end_time": "2021-05-07T04:17:54.418540Z",
     "start_time": "2021-05-07T04:17:51.678026Z"
    }
   },
   "outputs": [
    {
     "data": {
      "image/png": "[encoded data removed]",
      "text/plain": [
       "<Figure size 432x288 with 2 Axes>"
      ]
     },
     "metadata": {
      "needs_background": "light"
     },
     "output_type": "display_data"
    }
   ],
   "source": [
    "y_pred = np.argmax(stn.predict(x_test), 1)\n",
    "plot_confusion_matrix(y_test, y_pred)"
   ]
  },
  {
   "cell_type": "code",
   "execution_count": 25,
   "id": "28d30b86",
   "metadata": {
    "ExecuteTime": {
     "end_time": "2021-05-07T03:38:47.147495Z",
     "start_time": "2021-05-07T03:38:46.669060Z"
    }
   },
   "outputs": [],
   "source": [
    "stn.save_weights('saved_model/stn_mnist_weights.h5')"
   ]
  },
  {
   "cell_type": "markdown",
   "id": "7df434aa",
   "metadata": {},
   "source": [
    "# Train model without Spatial Transformer"
   ]
  },
  {
   "cell_type": "code",
   "execution_count": 21,
   "id": "c9938243",
   "metadata": {
    "ExecuteTime": {
     "end_time": "2021-05-06T19:56:39.172886Z",
     "start_time": "2021-05-06T19:56:38.806338Z"
    }
   },
   "outputs": [
    {
     "name": "stdout",
     "output_type": "stream",
     "text": [
      "Model: \"model_2\"\n",
      "_________________________________________________________________\n",
      "Layer (type)                 Output Shape              Param #   \n",
      "=================================================================\n",
      "input_2 (InputLayer)         [(None, 28, 28, 1)]       0         \n",
      "_________________________________________________________________\n",
      "conv2d_6 (Conv2D)            (None, 24, 24, 10)        260       \n",
      "_________________________________________________________________\n",
      "max_pooling2d_6 (MaxPooling2 (None, 12, 12, 10)        0         \n",
      "_________________________________________________________________\n",
      "conv2d_7 (Conv2D)            (None, 8, 8, 20)          5020      \n",
      "_________________________________________________________________\n",
      "spatial_dropout2d_1 (Spatial (None, 8, 8, 20)          0         \n",
      "_________________________________________________________________\n",
      "max_pooling2d_7 (MaxPooling2 (None, 4, 4, 20)          0         \n",
      "_________________________________________________________________\n",
      "tf.reshape_1 (TFOpLambda)    (None, 320)               0         \n",
      "_________________________________________________________________\n",
      "dense_6 (Dense)              (None, 50)                16050     \n",
      "_________________________________________________________________\n",
      "dropout_1 (Dropout)          (None, 50)                0         \n",
      "_________________________________________________________________\n",
      "dense_7 (Dense)              (None, 10)                510       \n",
      "=================================================================\n",
      "Total params: 21,840\n",
      "Trainable params: 21,840\n",
      "Non-trainable params: 0\n",
      "_________________________________________________________________\n"
     ]
    }
   ],
   "source": [
    "model = get_model(use_stn=False)\n",
    "model.summary()"
   ]
  },
  {
   "cell_type": "code",
   "execution_count": 22,
   "id": "381b0f93",
   "metadata": {
    "ExecuteTime": {
     "end_time": "2021-05-06T20:03:53.596685Z",
     "start_time": "2021-05-06T19:56:39.181873Z"
    }
   },
   "outputs": [
    {
     "name": "stdout",
     "output_type": "stream",
     "text": [
      "Epoch 1/100\n",
      "1813/1813 [==============================] - 17s 9ms/step - loss: 1.0132 - acc: 0.6643 - val_loss: 0.1176 - val_acc: 0.9665\n",
      "Epoch 2/100\n",
      "1813/1813 [==============================] - 19s 10ms/step - loss: 0.2705 - acc: 0.9197 - val_loss: 0.0869 - val_acc: 0.9775\n",
      "Epoch 3/100\n",
      "1813/1813 [==============================] - 16s 9ms/step - loss: 0.2117 - acc: 0.9386 - val_loss: 0.0750 - val_acc: 0.9805\n",
      "Epoch 4/100\n",
      "1813/1813 [==============================] - 19s 11ms/step - loss: 0.1824 - acc: 0.9460 - val_loss: 0.0754 - val_acc: 0.9800\n",
      "Epoch 5/100\n",
      "1813/1813 [==============================] - 17s 9ms/step - loss: 0.1695 - acc: 0.9510 - val_loss: 0.0670 - val_acc: 0.9810\n",
      "Epoch 6/100\n",
      "1813/1813 [==============================] - 16s 9ms/step - loss: 0.1583 - acc: 0.9517 - val_loss: 0.0626 - val_acc: 0.9845\n",
      "Epoch 7/100\n",
      "1813/1813 [==============================] - 16s 9ms/step - loss: 0.1506 - acc: 0.9550 - val_loss: 0.0624 - val_acc: 0.9840\n",
      "Epoch 8/100\n",
      "1813/1813 [==============================] - 16s 9ms/step - loss: 0.1434 - acc: 0.9567 - val_loss: 0.0568 - val_acc: 0.9860\n",
      "Epoch 9/100\n",
      "1813/1813 [==============================] - 16s 9ms/step - loss: 0.1369 - acc: 0.9586 - val_loss: 0.0573 - val_acc: 0.9855\n",
      "Epoch 10/100\n",
      "1813/1813 [==============================] - 15s 9ms/step - loss: 0.1328 - acc: 0.9597 - val_loss: 0.0522 - val_acc: 0.9855\n",
      "Epoch 11/100\n",
      "1813/1813 [==============================] - 16s 9ms/step - loss: 0.1302 - acc: 0.9619 - val_loss: 0.0545 - val_acc: 0.9835\n",
      "Epoch 12/100\n",
      "1813/1813 [==============================] - 26s 14ms/step - loss: 0.1335 - acc: 0.9606 - val_loss: 0.0537 - val_acc: 0.9840\n",
      "Epoch 13/100\n",
      "1813/1813 [==============================] - 40s 22ms/step - loss: 0.1206 - acc: 0.9640 - val_loss: 0.0540 - val_acc: 0.9865\n",
      "Epoch 14/100\n",
      "1813/1813 [==============================] - 45s 25ms/step - loss: 0.1151 - acc: 0.9654 - val_loss: 0.0571 - val_acc: 0.9840\n",
      "Epoch 15/100\n",
      "1813/1813 [==============================] - 36s 20ms/step - loss: 0.1184 - acc: 0.9650 - val_loss: 0.0507 - val_acc: 0.9850\n",
      "Epoch 16/100\n",
      "1813/1813 [==============================] - 18s 10ms/step - loss: 0.1108 - acc: 0.9672 - val_loss: 0.0494 - val_acc: 0.9870\n",
      "Epoch 17/100\n",
      "1813/1813 [==============================] - 16s 9ms/step - loss: 0.1141 - acc: 0.9657 - val_loss: 0.0513 - val_acc: 0.9875\n",
      "Epoch 18/100\n",
      "1813/1813 [==============================] - 16s 9ms/step - loss: 0.1119 - acc: 0.9679 - val_loss: 0.0499 - val_acc: 0.9880\n",
      "Epoch 19/100\n",
      "1813/1813 [==============================] - 16s 9ms/step - loss: 0.1120 - acc: 0.9655 - val_loss: 0.0536 - val_acc: 0.9840\n",
      "Epoch 20/100\n",
      "1813/1813 [==============================] - 16s 9ms/step - loss: 0.1069 - acc: 0.9670 - val_loss: 0.0510 - val_acc: 0.9865\n",
      "Epoch 21/100\n",
      "1813/1813 [==============================] - 16s 9ms/step - loss: 0.1091 - acc: 0.9661 - val_loss: 0.0514 - val_acc: 0.9880\n"
     ]
    },
    {
     "data": {
      "text/plain": [
       "<tensorflow.python.keras.callbacks.History at 0x1b3738f1508>"
      ]
     },
     "execution_count": 22,
     "metadata": {},
     "output_type": "execute_result"
    }
   ],
   "source": [
    "model.compile(optimizer = Adam(), loss = \"sparse_categorical_crossentropy\", metrics = [\"acc\"])\n",
    "model.fit(train_ds, validation_data=val_ds,\n",
    "        epochs=EPOCHS,\n",
    "        callbacks=[es_callback, reduce_lr])"
   ]
  },
  {
   "cell_type": "code",
   "execution_count": 23,
   "id": "59031ff1",
   "metadata": {
    "ExecuteTime": {
     "end_time": "2021-05-06T20:03:55.036688Z",
     "start_time": "2021-05-06T20:03:53.598685Z"
    }
   },
   "outputs": [
    {
     "name": "stdout",
     "output_type": "stream",
     "text": [
      "313/313 [==============================] - 1s 4ms/step - loss: 0.0386 - acc: 0.9885\n",
      "Test accuracy: 98.85%\n"
     ]
    }
   ],
   "source": [
    "_, test_acc = model.evaluate(test_ds)\n",
    "print(\"Test accuracy: {:.2f}%\".format(test_acc * 100))"
   ]
  },
  {
   "cell_type": "code",
   "execution_count": 51,
   "id": "6cd7f7ca",
   "metadata": {
    "ExecuteTime": {
     "end_time": "2021-05-07T04:18:02.778087Z",
     "start_time": "2021-05-07T04:18:00.903465Z"
    }
   },
   "outputs": [
    {
     "data": {
      "image/png": "[encoded data removed]",
      "text/plain": [
       "<Figure size 432x288 with 2 Axes>"
      ]
     },
     "metadata": {
      "needs_background": "light"
     },
     "output_type": "display_data"
    }
   ],
   "source": [
    "y_pred = np.argmax(model.predict(x_test), 1)\n",
    "plot_confusion_matrix(y_test, y_pred)"
   ]
  },
  {
   "cell_type": "code",
   "execution_count": 33,
   "id": "5982ed65",
   "metadata": {
    "ExecuteTime": {
     "end_time": "2021-05-07T03:56:32.680218Z",
     "start_time": "2021-05-07T03:56:28.176171Z"
    }
   },
   "outputs": [
    {
     "name": "stdout",
     "output_type": "stream",
     "text": [
      "313/313 [==============================] - 1s 4ms/step - loss: 0.0386 - acc: 0.9885\n",
      "313/313 [==============================] - 3s 9ms/step - loss: 0.0266 - acc: 0.9915A: 0s - loss: 0.0264 - acc: 0.9\n"
     ]
    },
    {
     "data": {
      "text/plain": [
       "(array([0, 1]),\n",
       " [Text(0, 0, 'CNN without Spatial Transformer'),\n",
       "  Text(1, 0, 'CNN with Spatial Transformer')])"
      ]
     },
     "execution_count": 33,
     "metadata": {},
     "output_type": "execute_result"
    },
    {
     "data": {
      "image/png": "[encoded data removed]",
      "text/plain": [
       "<Figure size 432x288 with 1 Axes>"
      ]
     },
     "metadata": {
      "needs_background": "light"
     },
     "output_type": "display_data"
    }
   ],
   "source": [
    "error_rate_dict = {}\n",
    "error_rate_dict['CNN without Spatial Transformer'] = (1 - model.evaluate(test_ds)[1]) * 100\n",
    "error_rate_dict['CNN with Spatial Transformer'] = (1 - stn.evaluate(test_ds)[1]) * 100\n",
    "error_rate_series = pd.Series(error_rate_dict)\n",
    "    \n",
    "_, ax = plt.subplots()\n",
    "for i, v in enumerate(error_rate_series):\n",
    "    ax.text(i - 0.1, v, '%0.2f' % v, color='black', fontweight='bold')\n",
    "plt.title('Error percentage')\n",
    "error_rate_series.plot(kind='bar')\n",
    "plt.xticks(rotation=0)"
   ]
  },
  {
   "cell_type": "code",
   "execution_count": 26,
   "id": "f09738cc",
   "metadata": {
    "ExecuteTime": {
     "end_time": "2021-05-07T03:44:27.438021Z",
     "start_time": "2021-05-07T03:44:27.409017Z"
    }
   },
   "outputs": [],
   "source": [
    "model.save_weights('saved_model/cnn_mnist_weights.h5')"
   ]
  },
  {
   "cell_type": "markdown",
   "id": "572887d4",
   "metadata": {},
   "source": [
    "# Visualize Spatial Transformer's output"
   ]
  },
  {
   "cell_type": "code",
   "execution_count": 52,
   "id": "28df9e9c",
   "metadata": {
    "ExecuteTime": {
     "end_time": "2021-05-07T04:19:57.999037Z",
     "start_time": "2021-05-07T04:19:53.749405Z"
    }
   },
   "outputs": [
    {
     "data": {
      "image/png": "[encoded data removed]",
      "text/plain": [
       "<Figure size 720x720 with 25 Axes>"
      ]
     },
     "metadata": {
      "needs_background": "light"
     },
     "output_type": "display_data"
    },
    {
     "data": {
      "image/png": "[encoded data removed]",
      "text/plain": [
       "<Figure size 720x720 with 25 Axes>"
      ]
     },
     "metadata": {
      "needs_background": "light"
     },
     "output_type": "display_data"
    }
   ],
   "source": [
    "TEST_OFFSET = 7\n",
    "\n",
    "# Original images\n",
    "_ = visualize_images(x_test, y_test, TEST_OFFSET)\n",
    "\n",
    "# Transformed images\n",
    "transformed_x = st_module(x_test[TEST_OFFSET:])\n",
    "_ = visualize_images(transformed_x.numpy(), y_test[TEST_OFFSET:])"
   ]
  },
  {
   "cell_type": "markdown",
   "id": "da73a6a9",
   "metadata": {},
   "source": [
    "# Visualize learning progress of STN"
   ]
  },
  {
   "cell_type": "code",
   "execution_count": 2,
   "id": "2aaf3294",
   "metadata": {
    "ExecuteTime": {
     "end_time": "2021-05-06T11:58:06.332139Z",
     "start_time": "2021-05-06T11:57:56.625831Z"
    },
    "collapsed": true
   },
   "outputs": [
    {
     "data": {
      "text/html": [
       "\n",
       "      <iframe id=\"tensorboard-frame-917840133e5557bc\" width=\"100%\" height=\"800\" frameborder=\"0\">\n",
       "      </iframe>\n",
       "      <script>\n",
       "        (function() {\n",
       "          const frame = document.getElementById(\"tensorboard-frame-917840133e5557bc\");\n",
       "          const url = new URL(\"/\", window.location);\n",
       "          const port = 6006;\n",
       "          if (port) {\n",
       "            url.port = port;\n",
       "          }\n",
       "          frame.src = url;\n",
       "        })();\n",
       "      </script>\n",
       "    "
      ],
      "text/plain": [
       "<IPython.core.display.HTML object>"
      ]
     },
     "metadata": {},
     "output_type": "display_data"
    }
   ],
   "source": [
    "%load_ext tensorboard\n",
    "%tensorboard --logdir \"logs/stn_progress\""
   ]
  },
  {
   "cell_type": "code",
   "execution_count": 3,
   "id": "c985c2b2",
   "metadata": {
    "ExecuteTime": {
     "end_time": "2021-05-06T11:58:15.579994Z",
     "start_time": "2021-05-06T11:58:15.501803Z"
    }
   },
   "outputs": [],
   "source": [
    "!tar cf logs.tar.gz logs"
   ]
  },
  {
   "cell_type": "code",
   "execution_count": null,
   "id": "a0ed7a2e",
   "metadata": {},
   "outputs": [],
   "source": []
  }
 ],
 "metadata": {
  "kernelspec": {
   "display_name": "Python 3",
   "language": "python",
   "name": "python3"
  },
  "language_info": {
   "codemirror_mode": {
    "name": "ipython",
    "version": 3
   },
   "file_extension": ".py",
   "mimetype": "text/x-python",
   "name": "python",
   "nbconvert_exporter": "python",
   "pygments_lexer": "ipython3",
   "version": "3.7.5"
  },
  "toc": {
   "base_numbering": 1,
   "nav_menu": {},
   "number_sections": true,
   "sideBar": true,
   "skip_h1_title": false,
   "title_cell": "Table of Contents",
   "title_sidebar": "Contents",
   "toc_cell": true,
   "toc_position": {
    "height": "calc(100% - 180px)",
    "left": "10px",
    "top": "150px",
    "width": "307.038px"
   },
   "toc_section_display": true,
   "toc_window_display": true
  }
 },
 "nbformat": 4,
 "nbformat_minor": 5
}
